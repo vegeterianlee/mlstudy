{
 "cells": [
  {
   "cell_type": "code",
   "id": "initial_id",
   "metadata": {
    "collapsed": true,
    "ExecuteTime": {
     "end_time": "2024-08-07T16:37:59.698209Z",
     "start_time": "2024-08-07T16:37:59.349579Z"
    }
   },
   "source": [
    "# 텐서플로 라이브러리 안에 있는 케라스 API에서 필요한 함수들을 불러옴\n",
    "from tensorflow.keras.models import Sequential\n",
    "from tensorflow.keras.layers import Dense\n",
    "\n",
    "# 데이터를 다루는 데 필요한 라이브러리를 불러옴\n",
    "import numpy as np\n",
    "\n",
    "# 데이터 작성\n",
    "# 깃헙의 데이터에 그대로 가져옴\n",
    "!git clone https://github.com/taehojo/data.git   \n",
    "\n",
    "# 준비된 수술 환자 데이터를 불러옴\n",
    "Data_set = np.loadtxt(\"./data/ThoraricSurgery3.csv\", delimiter=\",\")\n",
    "X = Data_set[:,0:16]    # 환자의 진찰 기록을 X로 지정\n",
    "y = Data_set[:,16]      # 수술 1년 후 사망/생존 여부를 y로 지정\n",
    "\n",
    "# 모델 작성\n",
    "model = Sequential()\n",
    "model.add(Dense(30, input_dim=16, activation='relu'))\n",
    "model.add(Dense(1, activation='sigmoid'))\n",
    "\n",
    "# 모델 작성\n",
    "model = Sequential()\n",
    "model.add(Dense(30, input_dim=16, activation='relu'))\n",
    "model.add(Dense(1, activation='sigmoid'))\n",
    "\n",
    "# 딥러닝 모델을 실행\n",
    "model.compile(loss='binary_crossentropy', optimizer='adam', metrics=['accuracy'])\n",
    "history=model.fit(X, y, epochs=5, batch_size=16)"
   ],
   "outputs": [
    {
     "name": "stdout",
     "output_type": "stream",
     "text": [
      "fatal: destination path 'data' already exists and is not an empty directory.\r\n",
      "Epoch 1/5\n",
      "30/30 [==============================] - 0s 454us/step - loss: 13.3765 - accuracy: 0.1638\n",
      "Epoch 2/5\n",
      "30/30 [==============================] - 0s 463us/step - loss: 7.4033 - accuracy: 0.1745\n",
      "Epoch 3/5\n",
      "30/30 [==============================] - 0s 528us/step - loss: 2.0602 - accuracy: 0.2809\n",
      "Epoch 4/5\n",
      "30/30 [==============================] - 0s 441us/step - loss: 0.5053 - accuracy: 0.8468\n",
      "Epoch 5/5\n",
      "30/30 [==============================] - 0s 411us/step - loss: 0.4987 - accuracy: 0.8511\n"
     ]
    }
   ],
   "execution_count": 7
  },
  {
   "metadata": {
    "ExecuteTime": {
     "end_time": "2024-08-07T16:36:27.583074Z",
     "start_time": "2024-08-07T16:36:27.565764Z"
    }
   },
   "cell_type": "code",
   "source": "",
   "id": "5d7d673f015a1220",
   "outputs": [],
   "execution_count": 4
  },
  {
   "metadata": {
    "ExecuteTime": {
     "end_time": "2024-08-07T16:37:05.502164Z",
     "start_time": "2024-08-07T16:37:05.293924Z"
    }
   },
   "cell_type": "code",
   "source": "",
   "id": "ad5facdb085c9601",
   "outputs": [
    {
     "name": "stdout",
     "output_type": "stream",
     "text": [
      "Epoch 1/5\n",
      "30/30 [==============================] - 0s 418us/step - loss: 0.4429 - accuracy: 0.8511\n",
      "Epoch 2/5\n",
      "30/30 [==============================] - 0s 409us/step - loss: 0.4394 - accuracy: 0.8511\n",
      "Epoch 3/5\n",
      "30/30 [==============================] - 0s 456us/step - loss: 0.4283 - accuracy: 0.8511\n",
      "Epoch 4/5\n",
      "30/30 [==============================] - 0s 360us/step - loss: 0.4370 - accuracy: 0.8511\n",
      "Epoch 5/5\n",
      "30/30 [==============================] - 0s 375us/step - loss: 0.4255 - accuracy: 0.8511\n"
     ]
    }
   ],
   "execution_count": 6
  },
  {
   "metadata": {},
   "cell_type": "code",
   "outputs": [],
   "execution_count": null,
   "source": "",
   "id": "12603047a4ad7495"
  }
 ],
 "metadata": {
  "kernelspec": {
   "display_name": "Python 3",
   "language": "python",
   "name": "python3"
  },
  "language_info": {
   "codemirror_mode": {
    "name": "ipython",
    "version": 2
   },
   "file_extension": ".py",
   "mimetype": "text/x-python",
   "name": "python",
   "nbconvert_exporter": "python",
   "pygments_lexer": "ipython2",
   "version": "2.7.6"
  }
 },
 "nbformat": 4,
 "nbformat_minor": 5
}
